{
 "cells": [
  {
   "cell_type": "markdown",
   "id": "a20455fd",
   "metadata": {},
   "source": [
    "### Importing the modules"
   ]
  },
  {
   "cell_type": "code",
   "execution_count": 1,
   "id": "ca029d19",
   "metadata": {},
   "outputs": [],
   "source": [
    "import pandas as pd\n",
    "import numpy as np\n",
    "import matplotlib.pyplot as plt\n",
    "import seaborn as sns"
   ]
  },
  {
   "cell_type": "markdown",
   "id": "185e40ed",
   "metadata": {},
   "source": [
    "### Reading the csv file"
   ]
  },
  {
   "cell_type": "code",
   "execution_count": 2,
   "id": "1c548528",
   "metadata": {},
   "outputs": [
    {
     "data": {
      "text/html": [
       "<div>\n",
       "<style scoped>\n",
       "    .dataframe tbody tr th:only-of-type {\n",
       "        vertical-align: middle;\n",
       "    }\n",
       "\n",
       "    .dataframe tbody tr th {\n",
       "        vertical-align: top;\n",
       "    }\n",
       "\n",
       "    .dataframe thead th {\n",
       "        text-align: right;\n",
       "    }\n",
       "</style>\n",
       "<table border=\"1\" class=\"dataframe\">\n",
       "  <thead>\n",
       "    <tr style=\"text-align: right;\">\n",
       "      <th></th>\n",
       "      <th>event</th>\n",
       "      <th>date</th>\n",
       "      <th>country</th>\n",
       "      <th>city</th>\n",
       "      <th>artist</th>\n",
       "      <th>album</th>\n",
       "      <th>track</th>\n",
       "      <th>isrc</th>\n",
       "      <th>linkid</th>\n",
       "    </tr>\n",
       "  </thead>\n",
       "  <tbody>\n",
       "    <tr>\n",
       "      <th>0</th>\n",
       "      <td>click</td>\n",
       "      <td>2021-08-21</td>\n",
       "      <td>Saudi Arabia</td>\n",
       "      <td>Jeddah</td>\n",
       "      <td>Tesher</td>\n",
       "      <td>Jalebi Baby</td>\n",
       "      <td>Jalebi Baby</td>\n",
       "      <td>QZNWQ2070741</td>\n",
       "      <td>2d896d31-97b6-4869-967b-1c5fb9cd4bb8</td>\n",
       "    </tr>\n",
       "    <tr>\n",
       "      <th>1</th>\n",
       "      <td>click</td>\n",
       "      <td>2021-08-21</td>\n",
       "      <td>Saudi Arabia</td>\n",
       "      <td>Jeddah</td>\n",
       "      <td>Tesher</td>\n",
       "      <td>Jalebi Baby</td>\n",
       "      <td>Jalebi Baby</td>\n",
       "      <td>QZNWQ2070741</td>\n",
       "      <td>2d896d31-97b6-4869-967b-1c5fb9cd4bb8</td>\n",
       "    </tr>\n",
       "    <tr>\n",
       "      <th>2</th>\n",
       "      <td>click</td>\n",
       "      <td>2021-08-21</td>\n",
       "      <td>India</td>\n",
       "      <td>Ludhiana</td>\n",
       "      <td>Reyanna Maria</td>\n",
       "      <td>So Pretty</td>\n",
       "      <td>So Pretty</td>\n",
       "      <td>USUM72100871</td>\n",
       "      <td>23199824-9cf5-4b98-942a-34965c3b0cc2</td>\n",
       "    </tr>\n",
       "    <tr>\n",
       "      <th>3</th>\n",
       "      <td>click</td>\n",
       "      <td>2021-08-21</td>\n",
       "      <td>France</td>\n",
       "      <td>Unknown</td>\n",
       "      <td>Simone &amp; Simaria, Sebastian Yatra</td>\n",
       "      <td>No Llores Más</td>\n",
       "      <td>No Llores Más</td>\n",
       "      <td>BRUM72003904</td>\n",
       "      <td>35573248-4e49-47c7-af80-08a960fa74cd</td>\n",
       "    </tr>\n",
       "    <tr>\n",
       "      <th>4</th>\n",
       "      <td>click</td>\n",
       "      <td>2021-08-21</td>\n",
       "      <td>Maldives</td>\n",
       "      <td>Malé</td>\n",
       "      <td>Tesher</td>\n",
       "      <td>Jalebi Baby</td>\n",
       "      <td>Jalebi Baby</td>\n",
       "      <td>QZNWQ2070741</td>\n",
       "      <td>2d896d31-97b6-4869-967b-1c5fb9cd4bb8</td>\n",
       "    </tr>\n",
       "  </tbody>\n",
       "</table>\n",
       "</div>"
      ],
      "text/plain": [
       "   event        date       country      city  \\\n",
       "0  click  2021-08-21  Saudi Arabia    Jeddah   \n",
       "1  click  2021-08-21  Saudi Arabia    Jeddah   \n",
       "2  click  2021-08-21         India  Ludhiana   \n",
       "3  click  2021-08-21        France   Unknown   \n",
       "4  click  2021-08-21      Maldives      Malé   \n",
       "\n",
       "                              artist          album          track  \\\n",
       "0                             Tesher    Jalebi Baby    Jalebi Baby   \n",
       "1                             Tesher    Jalebi Baby    Jalebi Baby   \n",
       "2                      Reyanna Maria      So Pretty      So Pretty   \n",
       "3  Simone & Simaria, Sebastian Yatra  No Llores Más  No Llores Más   \n",
       "4                             Tesher    Jalebi Baby    Jalebi Baby   \n",
       "\n",
       "           isrc                                linkid  \n",
       "0  QZNWQ2070741  2d896d31-97b6-4869-967b-1c5fb9cd4bb8  \n",
       "1  QZNWQ2070741  2d896d31-97b6-4869-967b-1c5fb9cd4bb8  \n",
       "2  USUM72100871  23199824-9cf5-4b98-942a-34965c3b0cc2  \n",
       "3  BRUM72003904  35573248-4e49-47c7-af80-08a960fa74cd  \n",
       "4  QZNWQ2070741  2d896d31-97b6-4869-967b-1c5fb9cd4bb8  "
      ]
     },
     "execution_count": 2,
     "metadata": {},
     "output_type": "execute_result"
    }
   ],
   "source": [
    "df = pd.read_csv('/Users/Shobhit/Downloads/traffic.csv')\n",
    "df.head()"
   ]
  },
  {
   "cell_type": "markdown",
   "id": "aa34bfc3",
   "metadata": {},
   "source": [
    "### Converting date column into datetime datatype"
   ]
  },
  {
   "cell_type": "code",
   "execution_count": 3,
   "id": "6e033dee",
   "metadata": {},
   "outputs": [],
   "source": [
    "df['date'] = pd.to_datetime(df['date'])"
   ]
  },
  {
   "cell_type": "code",
   "execution_count": 4,
   "id": "bae6d9c8",
   "metadata": {
    "scrolled": true
   },
   "outputs": [
    {
     "data": {
      "text/plain": [
       "event              object\n",
       "date       datetime64[ns]\n",
       "country            object\n",
       "city               object\n",
       "artist             object\n",
       "album              object\n",
       "track              object\n",
       "isrc               object\n",
       "linkid             object\n",
       "dtype: object"
      ]
     },
     "execution_count": 4,
     "metadata": {},
     "output_type": "execute_result"
    }
   ],
   "source": [
    "df.dtypes"
   ]
  },
  {
   "cell_type": "markdown",
   "id": "22627e5c",
   "metadata": {},
   "source": [
    "## 1. How many total pageviews and pageviews per day?"
   ]
  },
  {
   "cell_type": "markdown",
   "id": "a18fe3a4",
   "metadata": {},
   "source": [
    "### Total pageviews "
   ]
  },
  {
   "cell_type": "code",
   "execution_count": 5,
   "id": "b1b82378",
   "metadata": {},
   "outputs": [
    {
     "data": {
      "text/plain": [
       "142015"
      ]
     },
     "execution_count": 5,
     "metadata": {},
     "output_type": "execute_result"
    }
   ],
   "source": [
    "sum(df['event']=='pageview')"
   ]
  },
  {
   "cell_type": "markdown",
   "id": "0179fa43",
   "metadata": {},
   "source": [
    "### Pageviews for each date"
   ]
  },
  {
   "cell_type": "code",
   "execution_count": 6,
   "id": "400d9c65",
   "metadata": {},
   "outputs": [
    {
     "data": {
      "text/plain": [
       "date\n",
       "2021-08-19    22366\n",
       "2021-08-20    21382\n",
       "2021-08-21    21349\n",
       "2021-08-22    20430\n",
       "2021-08-23    18646\n",
       "2021-08-24    18693\n",
       "2021-08-25    19149\n",
       "dtype: int64"
      ]
     },
     "execution_count": 6,
     "metadata": {},
     "output_type": "execute_result"
    }
   ],
   "source": [
    "#dates= df['date'].dt.floor('D')\n",
    "#df1 = df.groupby(dates).size()\n",
    "df.loc[df['event']=='pageview'].groupby('date').size()"
   ]
  },
  {
   "cell_type": "markdown",
   "id": "1e5fc66c",
   "metadata": {},
   "source": [
    "## 2. Other events "
   ]
  },
  {
   "cell_type": "markdown",
   "id": "1a5f0e13",
   "metadata": {},
   "source": [
    "### What different types of events do we have?"
   ]
  },
  {
   "cell_type": "code",
   "execution_count": 7,
   "id": "8cc9a8cf",
   "metadata": {},
   "outputs": [
    {
     "data": {
      "text/plain": [
       "array(['click', 'preview', 'pageview'], dtype=object)"
      ]
     },
     "execution_count": 7,
     "metadata": {},
     "output_type": "execute_result"
    }
   ],
   "source": [
    "df['event'].unique()"
   ]
  },
  {
   "cell_type": "markdown",
   "id": "e69fba16",
   "metadata": {},
   "source": [
    "### Total clicks and per day clicks"
   ]
  },
  {
   "cell_type": "code",
   "execution_count": 8,
   "id": "80973ca8",
   "metadata": {},
   "outputs": [
    {
     "name": "stdout",
     "output_type": "stream",
     "text": [
      "55732\n"
     ]
    },
    {
     "data": {
      "text/plain": [
       "date\n",
       "2021-08-19    9207\n",
       "2021-08-20    8508\n",
       "2021-08-21    8071\n",
       "2021-08-22    7854\n",
       "2021-08-23    7315\n",
       "2021-08-24    7301\n",
       "2021-08-25    7476\n",
       "dtype: int64"
      ]
     },
     "execution_count": 8,
     "metadata": {},
     "output_type": "execute_result"
    }
   ],
   "source": [
    "print(sum(df['event']=='click'))\n",
    "df.loc[df['event']=='click'].groupby('date').size()"
   ]
  },
  {
   "cell_type": "markdown",
   "id": "6f4df3d3",
   "metadata": {},
   "source": [
    "### Total previews and per day previews "
   ]
  },
  {
   "cell_type": "code",
   "execution_count": 9,
   "id": "35a8177e",
   "metadata": {},
   "outputs": [
    {
     "name": "stdout",
     "output_type": "stream",
     "text": [
      "28531\n"
     ]
    },
    {
     "data": {
      "text/plain": [
       "date\n",
       "2021-08-19    3788\n",
       "2021-08-20    4222\n",
       "2021-08-21    4663\n",
       "2021-08-22    4349\n",
       "2021-08-23    3847\n",
       "2021-08-24    3840\n",
       "2021-08-25    3822\n",
       "dtype: int64"
      ]
     },
     "execution_count": 9,
     "metadata": {},
     "output_type": "execute_result"
    }
   ],
   "source": [
    "print(sum(df['event']=='preview'))\n",
    "df[df['event']=='preview'].groupby('date').size()"
   ]
  },
  {
   "cell_type": "markdown",
   "id": "4348e3d0",
   "metadata": {},
   "source": [
    "## 3. Which countries the pageviews come from?"
   ]
  },
  {
   "cell_type": "code",
   "execution_count": 10,
   "id": "71b1a778",
   "metadata": {},
   "outputs": [
    {
     "name": "stdout",
     "output_type": "stream",
     "text": [
      "['India' 'Oman' 'Saudi Arabia' 'Qatar' 'Kuwait' 'Austria' 'France' 'Iraq'\n",
      " 'United Kingdom' 'Pakistan' 'United Arab Emirates' 'Turkey' 'Thailand'\n",
      " 'Sweden' 'Poland' 'Singapore' 'Ireland' 'St Kitts and Nevis'\n",
      " 'South Africa' 'Italy' 'Germany' 'United States' 'Belgium' 'Ghana'\n",
      " 'Rwanda' 'Norway' 'Philippines' 'Nigeria' 'Moldova' 'Netherlands'\n",
      " 'Maldives' 'Lithuania' 'Australia' 'Egypt' 'Mexico' 'Jordan' 'Angola'\n",
      " 'Morocco' 'Bolivia' 'Argentina' 'Canada' 'Israel' 'Kenya' 'Finland'\n",
      " 'Djibouti' 'Guatemala' 'Jamaica' 'Romania' 'Palestine' 'Denmark' 'Peru'\n",
      " 'Serbia' 'Russia' 'Bangladesh' 'Bosnia and Herzegovina' 'Albania'\n",
      " 'Somalia' 'Tanzania' 'New Zealand' 'Algeria' 'Hungary' 'Yemen' 'Libya'\n",
      " 'Czechia' 'Greece' 'Sri Lanka' 'Mayotte' 'Ukraine' 'Switzerland'\n",
      " 'Bahrain' 'Portugal' 'Nicaragua' 'Gabon' 'Mozambique' 'Ivory Coast'\n",
      " 'Mauritius' 'Kazakhstan' 'Nepal' 'Indonesia' 'Trinidad and Tobago'\n",
      " 'Brazil' 'El Salvador' 'Mali' 'Paraguay' 'Syria' 'Sudan' 'Cameroon'\n",
      " 'Venezuela' 'Dominican Republic' 'Mauritania' 'South Korea' 'Uzbekistan'\n",
      " 'Honduras' 'Luxembourg' 'Uruguay' 'Martinique' 'Panama' 'Burundi' 'Togo'\n",
      " 'Malaysia' 'Haiti' 'Niger' 'Tunisia' 'Réunion' 'DR Congo' 'Azerbaijan'\n",
      " 'Bulgaria' 'Uganda' 'Hong Kong' 'Georgia' 'Lebanon' 'Puerto Rico'\n",
      " 'Andorra' 'Estonia' 'Zambia' 'Senegal' 'Latvia' 'Burkina Faso' 'Croatia'\n",
      " 'British Virgin Islands' 'Ecuador' 'Colombia' 'Spain' 'Slovakia'\n",
      " 'North Macedonia' 'Liechtenstein' 'Sierra Leone' 'Botswana' 'Iceland'\n",
      " 'Armenia' 'Cyprus' 'Benin' 'Ethiopia' 'Guadeloupe' 'Kosovo' 'Montenegro'\n",
      " 'Åland' 'Guyana' 'Japan' 'Guinea' 'Cambodia' 'Greenland' 'French Guiana'\n",
      " 'Slovenia' 'Chad' 'Brunei' 'Liberia' 'Namibia' 'Papua New Guinea'\n",
      " 'Eritrea' 'Kyrgyzstan' 'Gambia' 'Belize' 'Fiji' 'Barbados'\n",
      " 'Congo Republic' 'China' 'Chile' 'Belarus' 'Seychelles' 'Zimbabwe'\n",
      " 'Bermuda' 'Bhutan' 'Cayman Islands' 'Saint Vincent and the Grenadines'\n",
      " 'Costa Rica' 'Curaçao' 'Tajikistan' 'Myanmar' 'Taiwan' 'Guinea-Bissau'\n",
      " 'Comoros' 'Aruba' 'Bahamas' 'Saint Lucia' 'Iran' 'Cabo Verde' 'Jersey'\n",
      " 'Vietnam' 'U.S. Virgin Islands' 'Suriname' nan 'Madagascar'\n",
      " 'Faroe Islands']\n"
     ]
    }
   ],
   "source": [
    "pageview_countries = df.loc[df['event']=='preview', 'country'].unique()\n",
    "print(pageview_countries)"
   ]
  },
  {
   "cell_type": "markdown",
   "id": "f663dfb3",
   "metadata": {},
   "source": [
    "## 4. Overall click rate"
   ]
  },
  {
   "cell_type": "code",
   "execution_count": 11,
   "id": "3de95c87",
   "metadata": {},
   "outputs": [
    {
     "name": "stdout",
     "output_type": "stream",
     "text": [
      "39.24374185825441 %\n"
     ]
    }
   ],
   "source": [
    "total_clicks = sum(df['event']=='click')\n",
    "total_pageviews = sum(df['event']=='pageview')\n",
    "overall_click_rate = total_clicks/total_pageviews\n",
    "print(overall_click_rate*100, '%')"
   ]
  },
  {
   "cell_type": "markdown",
   "id": "caa1510b",
   "metadata": {},
   "source": [
    "## 5. Clickrate distribution "
   ]
  },
  {
   "cell_type": "markdown",
   "id": "64c60ffc",
   "metadata": {},
   "source": [
    "### How many links are there?"
   ]
  },
  {
   "cell_type": "code",
   "execution_count": 12,
   "id": "eb25288b",
   "metadata": {},
   "outputs": [
    {
     "data": {
      "text/plain": [
       "3839"
      ]
     },
     "execution_count": 12,
     "metadata": {},
     "output_type": "execute_result"
    }
   ],
   "source": [
    "len(df['linkid'].unique())"
   ]
  },
  {
   "cell_type": "markdown",
   "id": "2b54b9fe",
   "metadata": {},
   "source": [
    "### Number of clicks per link"
   ]
  },
  {
   "cell_type": "code",
   "execution_count": 13,
   "id": "6f8984a2",
   "metadata": {},
   "outputs": [
    {
     "name": "stdout",
     "output_type": "stream",
     "text": [
      "                                       0\n",
      "linkid                                  \n",
      "00126b32-0c35-507b-981c-02c80d2aa8e7   2\n",
      "004b9724-abca-5481-b6e9-6148a7ca00a5   1\n",
      "0063a982-41cd-5629-96d0-e1c4dd72ea11   2\n",
      "006af6a0-1f0d-4b0c-93bf-756af9071c06   8\n",
      "00759b81-3f04-4a61-b934-f8fb3185f4a0   3\n",
      "...                                   ..\n",
      "ffd8d5a7-91bc-48e1-a692-c26fca8a8ead  29\n",
      "fff38ca0-8043-50cd-a5f1-f65ebb7105c5   1\n",
      "fff84c0e-90a1-59d8-9997-adc909d50e16   1\n",
      "fffc17a7-f935-5d3e-bd3e-d761fd80d479   1\n",
      "fffd0045-29de-522b-b5d8-35786363bf07   1\n",
      "\n",
      "[2255 rows x 1 columns]\n"
     ]
    }
   ],
   "source": [
    "clicks_per_link = df[df['event']=='click'].groupby('linkid').size()\n",
    "clicks_per_link = clicks_per_link.to_frame()\n",
    "print(clicks_per_link)"
   ]
  },
  {
   "cell_type": "markdown",
   "id": "3cd3f834",
   "metadata": {},
   "source": [
    "### Number of pageviews per link"
   ]
  },
  {
   "cell_type": "code",
   "execution_count": 14,
   "id": "85523deb",
   "metadata": {},
   "outputs": [
    {
     "name": "stdout",
     "output_type": "stream",
     "text": [
      "                                      0\n",
      "linkid                                 \n",
      "00073307-ae96-5089-a117-4783afb42f8e  2\n",
      "00126b32-0c35-507b-981c-02c80d2aa8e7  2\n",
      "0018cfff-50a1-5984-9715-01ef2d11a49a  1\n",
      "0033934b-5d16-5a06-af58-d087bcdd3680  1\n",
      "0034d6cf-3bd8-5ffe-aafc-b3959fc48608  1\n",
      "...                                  ..\n",
      "fff38ca0-8043-50cd-a5f1-f65ebb7105c5  1\n",
      "fff4e5f0-4ee5-5fe7-aa30-e870edaf6ed7  2\n",
      "fff84c0e-90a1-59d8-9997-adc909d50e16  1\n",
      "fffc17a7-f935-5d3e-bd3e-d761fd80d479  2\n",
      "fffd0045-29de-522b-b5d8-35786363bf07  2\n",
      "\n",
      "[3837 rows x 1 columns]\n"
     ]
    }
   ],
   "source": [
    "pageviews_per_link = df[df['event']=='pageview'].groupby('linkid').size()\n",
    "pageviews_per_link = pageviews_per_link.to_frame()\n",
    "print(pageviews_per_link)"
   ]
  },
  {
   "cell_type": "markdown",
   "id": "87cf1747",
   "metadata": {},
   "source": [
    "### Clickrate per link"
   ]
  },
  {
   "cell_type": "code",
   "execution_count": 15,
   "id": "c59955ef",
   "metadata": {},
   "outputs": [
    {
     "name": "stdout",
     "output_type": "stream",
     "text": [
      "                                        0\n",
      "linkid                                   \n",
      "00073307-ae96-5089-a117-4783afb42f8e  0.0\n",
      "00126b32-0c35-507b-981c-02c80d2aa8e7  1.0\n",
      "0018cfff-50a1-5984-9715-01ef2d11a49a  0.0\n",
      "0033934b-5d16-5a06-af58-d087bcdd3680  0.0\n",
      "0034d6cf-3bd8-5ffe-aafc-b3959fc48608  0.0\n",
      "...                                   ...\n",
      "fff38ca0-8043-50cd-a5f1-f65ebb7105c5  1.0\n",
      "fff4e5f0-4ee5-5fe7-aa30-e870edaf6ed7  0.0\n",
      "fff84c0e-90a1-59d8-9997-adc909d50e16  1.0\n",
      "fffc17a7-f935-5d3e-bd3e-d761fd80d479  0.5\n",
      "fffd0045-29de-522b-b5d8-35786363bf07  0.5\n",
      "\n",
      "[3839 rows x 1 columns]\n"
     ]
    }
   ],
   "source": [
    "clickrate_per_link = clicks_per_link/pageviews_per_link\n",
    "clickrate_per_link.replace(np.nan, 0, inplace=True)\n",
    "print(clickrate_per_link)"
   ]
  },
  {
   "cell_type": "markdown",
   "id": "0d933611",
   "metadata": {},
   "source": [
    "### Distribution plot"
   ]
  },
  {
   "cell_type": "code",
   "execution_count": 16,
   "id": "c2035707",
   "metadata": {},
   "outputs": [
    {
     "data": {
      "text/plain": [
       "Text(0, 0.5, 'Count of clickrate')"
      ]
     },
     "execution_count": 16,
     "metadata": {},
     "output_type": "execute_result"
    },
    {
     "data": {
      "image/png": "[encoded data removed]",
      "text/plain": [
       "<Figure size 432x288 with 1 Axes>"
      ]
     },
     "metadata": {
      "needs_background": "light"
     },
     "output_type": "display_data"
    }
   ],
   "source": [
    "clickrate_per_link.plot(rot=90, legend=None)\n",
    "plt.title(\"Distribution plot for clickerate of each link\")\n",
    "plt.xlabel(\"Links\")\n",
    "plt.ylabel(\"Count of clickrate\")"
   ]
  },
  {
   "cell_type": "markdown",
   "id": "3daee91d",
   "metadata": {},
   "source": [
    "## 6. Correlation "
   ]
  },
  {
   "cell_type": "markdown",
   "id": "30bd61eb",
   "metadata": {},
   "source": [
    "### Calculating previews per link"
   ]
  },
  {
   "cell_type": "code",
   "execution_count": 17,
   "id": "71fa4c9d",
   "metadata": {
    "scrolled": true
   },
   "outputs": [
    {
     "name": "stdout",
     "output_type": "stream",
     "text": [
      "                                        0\n",
      "linkid                                   \n",
      "006af6a0-1f0d-4b0c-93bf-756af9071c06   11\n",
      "00759b81-3f04-4a61-b934-f8fb3185f4a0    1\n",
      "00829040-ee01-4409-966d-d67c7965144a    9\n",
      "00de7566-f014-4d20-8616-82e4dea45b88    1\n",
      "0211bf4d-0e9d-46c2-889c-f97872280820  141\n",
      "...                                   ...\n",
      "fd647d87-4c7a-4dd1-92c6-0e7dd7fdf4f1  101\n",
      "fe24ad63-e347-40db-8e75-94e573bd3d9b    1\n",
      "fe8a3fcd-7beb-4db0-8494-5238e1e1cab3   57\n",
      "fe8f7a23-be9d-49a6-b9b5-d26823c3f911   22\n",
      "ffd8d5a7-91bc-48e1-a692-c26fca8a8ead   21\n",
      "\n",
      "[495 rows x 1 columns]\n"
     ]
    }
   ],
   "source": [
    "previews_per_link = df[df['event']=='preview'].groupby('linkid').size()\n",
    "previews_per_link = previews_per_link.to_frame()\n",
    "print(previews_per_link)"
   ]
  },
  {
   "cell_type": "markdown",
   "id": "020548f9",
   "metadata": {},
   "source": [
    "### Looking at the correlation matrix"
   ]
  },
  {
   "cell_type": "code",
   "execution_count": 18,
   "id": "e3571150",
   "metadata": {},
   "outputs": [
    {
     "name": "stdout",
     "output_type": "stream",
     "text": [
      "          0         0\n",
      "0  1.000000  0.993422\n",
      "0  0.993422  1.000000\n"
     ]
    },
    {
     "data": {
      "text/plain": [
       "<AxesSubplot:>"
      ]
     },
     "execution_count": 18,
     "metadata": {},
     "output_type": "execute_result"
    },
    {
     "data": {
      "image/png": "[encoded data removed]",
      "text/plain": [
       "<Figure size 432x288 with 2 Axes>"
      ]
     },
     "metadata": {
      "needs_background": "light"
     },
     "output_type": "display_data"
    }
   ],
   "source": [
    "result = pd.concat([clicks_per_link, previews_per_link], axis=1).corr()\n",
    "print(result)\n",
    "sns.heatmap(result, annot=True)"
   ]
  },
  {
   "cell_type": "markdown",
   "id": "9a7ca92d",
   "metadata": {},
   "source": [
    "##### As the correlation value between clicks and previews for each link is 0.9934, there is a highly positive correlation between these two"
   ]
  }
 ],
 "metadata": {
  "kernelspec": {
   "display_name": "Python 3 (ipykernel)",
   "language": "python",
   "name": "python3"
  },
  "language_info": {
   "codemirror_mode": {
    "name": "ipython",
    "version": 3
   },
   "file_extension": ".py",
   "mimetype": "text/x-python",
   "name": "python",
   "nbconvert_exporter": "python",
   "pygments_lexer": "ipython3",
   "version": "3.9.6"
  }
 },
 "nbformat": 4,
 "nbformat_minor": 5
}
